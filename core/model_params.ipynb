{
 "cells": [
  {
   "cell_type": "code",
   "execution_count": 1,
   "metadata": {},
   "outputs": [
    {
     "name": "stderr",
     "output_type": "stream",
     "text": [
      "/home/snatchanon/anaconda3/envs/dta-fuse/lib/python3.8/site-packages/tqdm/auto.py:22: TqdmWarning: IProgress not found. Please update jupyter and ipywidgets. See https://ipywidgets.readthedocs.io/en/stable/user_install.html\n",
      "  from .autonotebook import tqdm as notebook_tqdm\n"
     ]
    }
   ],
   "source": [
    "import torch\n",
    "from torchinfo import summary\n",
    "from models.GCNNet_set2 import GCNEdgeNet, GCNNet, GCNConvNet\n",
    "from models.RGCNNet import RGCNNet\n",
    "from models.TransformerNet import TransNet\n",
    "\n",
    "# Dev\n",
    "from models.DeptNet import DeptNet"
   ]
  },
  {
   "cell_type": "code",
   "execution_count": 3,
   "metadata": {},
   "outputs": [],
   "source": [
    "best_model = GCNEdgeNet(num_features_xd=66, num_features_xt=1280, edge_input_dim=18)\n",
    "GCNedgenet = GCNConvNet(num_features_xd=66, num_features_xt=1280, edge_input_dim=18)\n",
    "deptnet = DeptNet(num_features_xd=66, num_features_xt=1280, edge_input_dim=18)\n",
    "rgcn = RGCNNet(num_features_xd=66, num_features_xt=1280)\n",
    "gcn = GCNNet(num_features_cxd=66, num_features_xt=1280)\n",
    "transnet = TransNet(num_features_xd=66, num_features_xt=1280, edge_input_dim=18)"
   ]
  },
  {
   "cell_type": "code",
   "execution_count": 4,
   "metadata": {},
   "outputs": [
    {
     "name": "stdout",
     "output_type": "stream",
     "text": [
      "model parameter for GCNEdgeNet : 4278603\n",
      "model parameter for DeptNet : 4213451\n",
      "model parameter for GCNConvNet : 2241227\n",
      "model parameter for RGCNNet : 2475329\n",
      "model parameter for GCNNet : 2235749\n",
      "model parameter for TransNet : 7806429\n"
     ]
    }
   ],
   "source": [
    "def count_parameters(model):\n",
    "    return sum(p.numel() for p in model.parameters() if p.requires_grad)\n",
    "\n",
    "print(f\"model parameter for {GCNEdgeNet.__name__} : {count_parameters(best_model)}\")\n",
    "print(f\"model parameter for {DeptNet.__name__} : {count_parameters(deptnet)}\")\n",
    "print(f\"model parameter for {GCNConvNet.__name__} : {count_parameters(GCNedgenet)}\")\n",
    "print(f\"model parameter for {RGCNNet.__name__} : {count_parameters(rgcn)}\")\n",
    "print(f\"model parameter for {GCNNet.__name__} : {count_parameters(gcn)}\")\n",
    "print(f\"model parameter for {TransNet.__name__} : {count_parameters(transnet)}\")"
   ]
  },
  {
   "cell_type": "code",
   "execution_count": null,
   "metadata": {},
   "outputs": [],
   "source": []
  },
  {
   "cell_type": "code",
   "execution_count": null,
   "metadata": {},
   "outputs": [],
   "source": []
  }
 ],
 "metadata": {
  "kernelspec": {
   "display_name": "dta-fuse",
   "language": "python",
   "name": "python3"
  },
  "language_info": {
   "codemirror_mode": {
    "name": "ipython",
    "version": 3
   },
   "file_extension": ".py",
   "mimetype": "text/x-python",
   "name": "python",
   "nbconvert_exporter": "python",
   "pygments_lexer": "ipython3",
   "version": "3.8.0 (default, Nov  6 2019, 21:49:08) \n[GCC 7.3.0]"
  },
  "orig_nbformat": 4,
  "vscode": {
   "interpreter": {
    "hash": "8e4a188b7458b767cbb31a9ee8979814865fc4259632e15360453d30d55e8da8"
   }
  }
 },
 "nbformat": 4,
 "nbformat_minor": 2
}
